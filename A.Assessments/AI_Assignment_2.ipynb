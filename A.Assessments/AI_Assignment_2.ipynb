{
  "nbformat": 4,
  "nbformat_minor": 0,
  "metadata": {
    "colab": {
      "provenance": []
    },
    "kernelspec": {
      "name": "python3",
      "display_name": "Python 3"
    },
    "language_info": {
      "name": "python"
    }
  },
  "cells": [
    {
      "cell_type": "markdown",
      "source": [
        "# **AI Assignment-2**"
      ],
      "metadata": {
        "id": "TYjZHFJRuMC-"
      }
    },
    {
      "cell_type": "markdown",
      "source": [
        "**Task1 Read the dataset and do data pre-processing**"
      ],
      "metadata": {
        "id": "dNiPhDiZuWWz"
      }
    },
    {
      "cell_type": "code",
      "execution_count": null,
      "metadata": {
        "id": "qgap8ExBqnvX"
      },
      "outputs": [],
      "source": [
        "#import required libraries\n",
        "import numpy as np\n",
        "import pandas as pd\n",
        "import matplotlib.pyplot as plt\n",
        "import seaborn as sns"
      ]
    },
    {
      "cell_type": "code",
      "source": [
        "df=pd.read_csv('/content/drug200.csv')\n",
        "df.head()"
      ],
      "metadata": {
        "colab": {
          "base_uri": "https://localhost:8080/",
          "height": 206
        },
        "id": "r0qRxAJvsbiZ",
        "outputId": "2729c9ce-928b-4e46-d1f2-fa76bab1f377"
      },
      "execution_count": 111,
      "outputs": [
        {
          "output_type": "execute_result",
          "data": {
            "text/plain": [
              "   Age Sex      BP Cholesterol  Na_to_K   Drug\n",
              "0   23   F    HIGH        HIGH   25.355  DrugY\n",
              "1   47   M     LOW        HIGH   13.093  drugC\n",
              "2   47   M     LOW        HIGH   10.114  drugC\n",
              "3   28   F  NORMAL        HIGH    7.798  drugX\n",
              "4   61   F     LOW        HIGH   18.043  DrugY"
            ],
            "text/html": [
              "\n",
              "  <div id=\"df-1f521dc8-72fd-48b3-8306-d38c1bea1f46\">\n",
              "    <div class=\"colab-df-container\">\n",
              "      <div>\n",
              "<style scoped>\n",
              "    .dataframe tbody tr th:only-of-type {\n",
              "        vertical-align: middle;\n",
              "    }\n",
              "\n",
              "    .dataframe tbody tr th {\n",
              "        vertical-align: top;\n",
              "    }\n",
              "\n",
              "    .dataframe thead th {\n",
              "        text-align: right;\n",
              "    }\n",
              "</style>\n",
              "<table border=\"1\" class=\"dataframe\">\n",
              "  <thead>\n",
              "    <tr style=\"text-align: right;\">\n",
              "      <th></th>\n",
              "      <th>Age</th>\n",
              "      <th>Sex</th>\n",
              "      <th>BP</th>\n",
              "      <th>Cholesterol</th>\n",
              "      <th>Na_to_K</th>\n",
              "      <th>Drug</th>\n",
              "    </tr>\n",
              "  </thead>\n",
              "  <tbody>\n",
              "    <tr>\n",
              "      <th>0</th>\n",
              "      <td>23</td>\n",
              "      <td>F</td>\n",
              "      <td>HIGH</td>\n",
              "      <td>HIGH</td>\n",
              "      <td>25.355</td>\n",
              "      <td>DrugY</td>\n",
              "    </tr>\n",
              "    <tr>\n",
              "      <th>1</th>\n",
              "      <td>47</td>\n",
              "      <td>M</td>\n",
              "      <td>LOW</td>\n",
              "      <td>HIGH</td>\n",
              "      <td>13.093</td>\n",
              "      <td>drugC</td>\n",
              "    </tr>\n",
              "    <tr>\n",
              "      <th>2</th>\n",
              "      <td>47</td>\n",
              "      <td>M</td>\n",
              "      <td>LOW</td>\n",
              "      <td>HIGH</td>\n",
              "      <td>10.114</td>\n",
              "      <td>drugC</td>\n",
              "    </tr>\n",
              "    <tr>\n",
              "      <th>3</th>\n",
              "      <td>28</td>\n",
              "      <td>F</td>\n",
              "      <td>NORMAL</td>\n",
              "      <td>HIGH</td>\n",
              "      <td>7.798</td>\n",
              "      <td>drugX</td>\n",
              "    </tr>\n",
              "    <tr>\n",
              "      <th>4</th>\n",
              "      <td>61</td>\n",
              "      <td>F</td>\n",
              "      <td>LOW</td>\n",
              "      <td>HIGH</td>\n",
              "      <td>18.043</td>\n",
              "      <td>DrugY</td>\n",
              "    </tr>\n",
              "  </tbody>\n",
              "</table>\n",
              "</div>\n",
              "      <button class=\"colab-df-convert\" onclick=\"convertToInteractive('df-1f521dc8-72fd-48b3-8306-d38c1bea1f46')\"\n",
              "              title=\"Convert this dataframe to an interactive table.\"\n",
              "              style=\"display:none;\">\n",
              "        \n",
              "  <svg xmlns=\"http://www.w3.org/2000/svg\" height=\"24px\"viewBox=\"0 0 24 24\"\n",
              "       width=\"24px\">\n",
              "    <path d=\"M0 0h24v24H0V0z\" fill=\"none\"/>\n",
              "    <path d=\"M18.56 5.44l.94 2.06.94-2.06 2.06-.94-2.06-.94-.94-2.06-.94 2.06-2.06.94zm-11 1L8.5 8.5l.94-2.06 2.06-.94-2.06-.94L8.5 2.5l-.94 2.06-2.06.94zm10 10l.94 2.06.94-2.06 2.06-.94-2.06-.94-.94-2.06-.94 2.06-2.06.94z\"/><path d=\"M17.41 7.96l-1.37-1.37c-.4-.4-.92-.59-1.43-.59-.52 0-1.04.2-1.43.59L10.3 9.45l-7.72 7.72c-.78.78-.78 2.05 0 2.83L4 21.41c.39.39.9.59 1.41.59.51 0 1.02-.2 1.41-.59l7.78-7.78 2.81-2.81c.8-.78.8-2.07 0-2.86zM5.41 20L4 18.59l7.72-7.72 1.47 1.35L5.41 20z\"/>\n",
              "  </svg>\n",
              "      </button>\n",
              "      \n",
              "  <style>\n",
              "    .colab-df-container {\n",
              "      display:flex;\n",
              "      flex-wrap:wrap;\n",
              "      gap: 12px;\n",
              "    }\n",
              "\n",
              "    .colab-df-convert {\n",
              "      background-color: #E8F0FE;\n",
              "      border: none;\n",
              "      border-radius: 50%;\n",
              "      cursor: pointer;\n",
              "      display: none;\n",
              "      fill: #1967D2;\n",
              "      height: 32px;\n",
              "      padding: 0 0 0 0;\n",
              "      width: 32px;\n",
              "    }\n",
              "\n",
              "    .colab-df-convert:hover {\n",
              "      background-color: #E2EBFA;\n",
              "      box-shadow: 0px 1px 2px rgba(60, 64, 67, 0.3), 0px 1px 3px 1px rgba(60, 64, 67, 0.15);\n",
              "      fill: #174EA6;\n",
              "    }\n",
              "\n",
              "    [theme=dark] .colab-df-convert {\n",
              "      background-color: #3B4455;\n",
              "      fill: #D2E3FC;\n",
              "    }\n",
              "\n",
              "    [theme=dark] .colab-df-convert:hover {\n",
              "      background-color: #434B5C;\n",
              "      box-shadow: 0px 1px 3px 1px rgba(0, 0, 0, 0.15);\n",
              "      filter: drop-shadow(0px 1px 2px rgba(0, 0, 0, 0.3));\n",
              "      fill: #FFFFFF;\n",
              "    }\n",
              "  </style>\n",
              "\n",
              "      <script>\n",
              "        const buttonEl =\n",
              "          document.querySelector('#df-1f521dc8-72fd-48b3-8306-d38c1bea1f46 button.colab-df-convert');\n",
              "        buttonEl.style.display =\n",
              "          google.colab.kernel.accessAllowed ? 'block' : 'none';\n",
              "\n",
              "        async function convertToInteractive(key) {\n",
              "          const element = document.querySelector('#df-1f521dc8-72fd-48b3-8306-d38c1bea1f46');\n",
              "          const dataTable =\n",
              "            await google.colab.kernel.invokeFunction('convertToInteractive',\n",
              "                                                     [key], {});\n",
              "          if (!dataTable) return;\n",
              "\n",
              "          const docLinkHtml = 'Like what you see? Visit the ' +\n",
              "            '<a target=\"_blank\" href=https://colab.research.google.com/notebooks/data_table.ipynb>data table notebook</a>'\n",
              "            + ' to learn more about interactive tables.';\n",
              "          element.innerHTML = '';\n",
              "          dataTable['output_type'] = 'display_data';\n",
              "          await google.colab.output.renderOutput(dataTable, element);\n",
              "          const docLink = document.createElement('div');\n",
              "          docLink.innerHTML = docLinkHtml;\n",
              "          element.appendChild(docLink);\n",
              "        }\n",
              "      </script>\n",
              "    </div>\n",
              "  </div>\n",
              "  "
            ]
          },
          "metadata": {},
          "execution_count": 111
        }
      ]
    },
    {
      "cell_type": "code",
      "source": [
        "df.isnull().sum()"
      ],
      "metadata": {
        "colab": {
          "base_uri": "https://localhost:8080/"
        },
        "id": "hA-cTrknsmke",
        "outputId": "e2fdb150-eff8-4ba8-e50f-6925df96a851"
      },
      "execution_count": 112,
      "outputs": [
        {
          "output_type": "execute_result",
          "data": {
            "text/plain": [
              "Age            0\n",
              "Sex            0\n",
              "BP             0\n",
              "Cholesterol    0\n",
              "Na_to_K        0\n",
              "Drug           0\n",
              "dtype: int64"
            ]
          },
          "metadata": {},
          "execution_count": 112
        }
      ]
    },
    {
      "cell_type": "code",
      "source": [
        "df['Drug'].unique()"
      ],
      "metadata": {
        "colab": {
          "base_uri": "https://localhost:8080/"
        },
        "id": "QGawv582swNR",
        "outputId": "44ea0b62-88cd-4af6-d744-874e85147e61"
      },
      "execution_count": 113,
      "outputs": [
        {
          "output_type": "execute_result",
          "data": {
            "text/plain": [
              "array(['DrugY', 'drugC', 'drugX', 'drugA', 'drugB'], dtype=object)"
            ]
          },
          "metadata": {},
          "execution_count": 113
        }
      ]
    },
    {
      "cell_type": "code",
      "source": [
        "df['Drug'].value_counts()"
      ],
      "metadata": {
        "colab": {
          "base_uri": "https://localhost:8080/"
        },
        "id": "WlOgJNLKtBEf",
        "outputId": "2f5425b7-6031-441a-fbe2-7b0573f1ac8c"
      },
      "execution_count": 114,
      "outputs": [
        {
          "output_type": "execute_result",
          "data": {
            "text/plain": [
              "DrugY    91\n",
              "drugX    54\n",
              "drugA    23\n",
              "drugC    16\n",
              "drugB    16\n",
              "Name: Drug, dtype: int64"
            ]
          },
          "metadata": {},
          "execution_count": 114
        }
      ]
    },
    {
      "cell_type": "code",
      "source": [
        "from sklearn.preprocessing import LabelEncoder,StandardScaler"
      ],
      "metadata": {
        "id": "qFrhobNGzLhZ"
      },
      "execution_count": 140,
      "outputs": []
    },
    {
      "cell_type": "code",
      "source": [
        "le=LabelEncoder()"
      ],
      "metadata": {
        "id": "aZkeY0s44svr"
      },
      "execution_count": 116,
      "outputs": []
    },
    {
      "cell_type": "code",
      "source": [
        "df['Drug']=le.fit_transform(df['Drug'])"
      ],
      "metadata": {
        "id": "dcHe7k0lNu6V"
      },
      "execution_count": 150,
      "outputs": []
    },
    {
      "cell_type": "code",
      "source": [
        "df.head()"
      ],
      "metadata": {
        "colab": {
          "base_uri": "https://localhost:8080/",
          "height": 206
        },
        "id": "EqUqoHPB-Yvf",
        "outputId": "7c52b78b-3a1a-4781-aad0-2e0dc1a0aa3e"
      },
      "execution_count": 151,
      "outputs": [
        {
          "output_type": "execute_result",
          "data": {
            "text/plain": [
              "   Age  Sex  BP  Cholesterol  Na_to_K  Drug\n",
              "0   23    0   0            0   25.355     0\n",
              "1   47    1   1            0   13.093     3\n",
              "2   47    1   1            0   10.114     3\n",
              "3   28    0   2            0    7.798     4\n",
              "4   61    0   1            0   18.043     0"
            ],
            "text/html": [
              "\n",
              "  <div id=\"df-c015c5ba-142f-47b5-a3fa-ed2fd16446de\">\n",
              "    <div class=\"colab-df-container\">\n",
              "      <div>\n",
              "<style scoped>\n",
              "    .dataframe tbody tr th:only-of-type {\n",
              "        vertical-align: middle;\n",
              "    }\n",
              "\n",
              "    .dataframe tbody tr th {\n",
              "        vertical-align: top;\n",
              "    }\n",
              "\n",
              "    .dataframe thead th {\n",
              "        text-align: right;\n",
              "    }\n",
              "</style>\n",
              "<table border=\"1\" class=\"dataframe\">\n",
              "  <thead>\n",
              "    <tr style=\"text-align: right;\">\n",
              "      <th></th>\n",
              "      <th>Age</th>\n",
              "      <th>Sex</th>\n",
              "      <th>BP</th>\n",
              "      <th>Cholesterol</th>\n",
              "      <th>Na_to_K</th>\n",
              "      <th>Drug</th>\n",
              "    </tr>\n",
              "  </thead>\n",
              "  <tbody>\n",
              "    <tr>\n",
              "      <th>0</th>\n",
              "      <td>23</td>\n",
              "      <td>0</td>\n",
              "      <td>0</td>\n",
              "      <td>0</td>\n",
              "      <td>25.355</td>\n",
              "      <td>0</td>\n",
              "    </tr>\n",
              "    <tr>\n",
              "      <th>1</th>\n",
              "      <td>47</td>\n",
              "      <td>1</td>\n",
              "      <td>1</td>\n",
              "      <td>0</td>\n",
              "      <td>13.093</td>\n",
              "      <td>3</td>\n",
              "    </tr>\n",
              "    <tr>\n",
              "      <th>2</th>\n",
              "      <td>47</td>\n",
              "      <td>1</td>\n",
              "      <td>1</td>\n",
              "      <td>0</td>\n",
              "      <td>10.114</td>\n",
              "      <td>3</td>\n",
              "    </tr>\n",
              "    <tr>\n",
              "      <th>3</th>\n",
              "      <td>28</td>\n",
              "      <td>0</td>\n",
              "      <td>2</td>\n",
              "      <td>0</td>\n",
              "      <td>7.798</td>\n",
              "      <td>4</td>\n",
              "    </tr>\n",
              "    <tr>\n",
              "      <th>4</th>\n",
              "      <td>61</td>\n",
              "      <td>0</td>\n",
              "      <td>1</td>\n",
              "      <td>0</td>\n",
              "      <td>18.043</td>\n",
              "      <td>0</td>\n",
              "    </tr>\n",
              "  </tbody>\n",
              "</table>\n",
              "</div>\n",
              "      <button class=\"colab-df-convert\" onclick=\"convertToInteractive('df-c015c5ba-142f-47b5-a3fa-ed2fd16446de')\"\n",
              "              title=\"Convert this dataframe to an interactive table.\"\n",
              "              style=\"display:none;\">\n",
              "        \n",
              "  <svg xmlns=\"http://www.w3.org/2000/svg\" height=\"24px\"viewBox=\"0 0 24 24\"\n",
              "       width=\"24px\">\n",
              "    <path d=\"M0 0h24v24H0V0z\" fill=\"none\"/>\n",
              "    <path d=\"M18.56 5.44l.94 2.06.94-2.06 2.06-.94-2.06-.94-.94-2.06-.94 2.06-2.06.94zm-11 1L8.5 8.5l.94-2.06 2.06-.94-2.06-.94L8.5 2.5l-.94 2.06-2.06.94zm10 10l.94 2.06.94-2.06 2.06-.94-2.06-.94-.94-2.06-.94 2.06-2.06.94z\"/><path d=\"M17.41 7.96l-1.37-1.37c-.4-.4-.92-.59-1.43-.59-.52 0-1.04.2-1.43.59L10.3 9.45l-7.72 7.72c-.78.78-.78 2.05 0 2.83L4 21.41c.39.39.9.59 1.41.59.51 0 1.02-.2 1.41-.59l7.78-7.78 2.81-2.81c.8-.78.8-2.07 0-2.86zM5.41 20L4 18.59l7.72-7.72 1.47 1.35L5.41 20z\"/>\n",
              "  </svg>\n",
              "      </button>\n",
              "      \n",
              "  <style>\n",
              "    .colab-df-container {\n",
              "      display:flex;\n",
              "      flex-wrap:wrap;\n",
              "      gap: 12px;\n",
              "    }\n",
              "\n",
              "    .colab-df-convert {\n",
              "      background-color: #E8F0FE;\n",
              "      border: none;\n",
              "      border-radius: 50%;\n",
              "      cursor: pointer;\n",
              "      display: none;\n",
              "      fill: #1967D2;\n",
              "      height: 32px;\n",
              "      padding: 0 0 0 0;\n",
              "      width: 32px;\n",
              "    }\n",
              "\n",
              "    .colab-df-convert:hover {\n",
              "      background-color: #E2EBFA;\n",
              "      box-shadow: 0px 1px 2px rgba(60, 64, 67, 0.3), 0px 1px 3px 1px rgba(60, 64, 67, 0.15);\n",
              "      fill: #174EA6;\n",
              "    }\n",
              "\n",
              "    [theme=dark] .colab-df-convert {\n",
              "      background-color: #3B4455;\n",
              "      fill: #D2E3FC;\n",
              "    }\n",
              "\n",
              "    [theme=dark] .colab-df-convert:hover {\n",
              "      background-color: #434B5C;\n",
              "      box-shadow: 0px 1px 3px 1px rgba(0, 0, 0, 0.15);\n",
              "      filter: drop-shadow(0px 1px 2px rgba(0, 0, 0, 0.3));\n",
              "      fill: #FFFFFF;\n",
              "    }\n",
              "  </style>\n",
              "\n",
              "      <script>\n",
              "        const buttonEl =\n",
              "          document.querySelector('#df-c015c5ba-142f-47b5-a3fa-ed2fd16446de button.colab-df-convert');\n",
              "        buttonEl.style.display =\n",
              "          google.colab.kernel.accessAllowed ? 'block' : 'none';\n",
              "\n",
              "        async function convertToInteractive(key) {\n",
              "          const element = document.querySelector('#df-c015c5ba-142f-47b5-a3fa-ed2fd16446de');\n",
              "          const dataTable =\n",
              "            await google.colab.kernel.invokeFunction('convertToInteractive',\n",
              "                                                     [key], {});\n",
              "          if (!dataTable) return;\n",
              "\n",
              "          const docLinkHtml = 'Like what you see? Visit the ' +\n",
              "            '<a target=\"_blank\" href=https://colab.research.google.com/notebooks/data_table.ipynb>data table notebook</a>'\n",
              "            + ' to learn more about interactive tables.';\n",
              "          element.innerHTML = '';\n",
              "          dataTable['output_type'] = 'display_data';\n",
              "          await google.colab.output.renderOutput(dataTable, element);\n",
              "          const docLink = document.createElement('div');\n",
              "          docLink.innerHTML = docLinkHtml;\n",
              "          element.appendChild(docLink);\n",
              "        }\n",
              "      </script>\n",
              "    </div>\n",
              "  </div>\n",
              "  "
            ]
          },
          "metadata": {},
          "execution_count": 151
        }
      ]
    },
    {
      "cell_type": "code",
      "source": [
        "x = pd.get_dummies(df.iloc[:,0:5]).values\n",
        "x"
      ],
      "metadata": {
        "colab": {
          "base_uri": "https://localhost:8080/"
        },
        "id": "glX8nA8J-hG9",
        "outputId": "69d23a13-6739-471b-f740-9d393e23f7c4"
      },
      "execution_count": 152,
      "outputs": [
        {
          "output_type": "execute_result",
          "data": {
            "text/plain": [
              "array([[23.   ,  0.   ,  0.   ,  0.   , 25.355],\n",
              "       [47.   ,  1.   ,  1.   ,  0.   , 13.093],\n",
              "       [47.   ,  1.   ,  1.   ,  0.   , 10.114],\n",
              "       [28.   ,  0.   ,  2.   ,  0.   ,  7.798],\n",
              "       [61.   ,  0.   ,  1.   ,  0.   , 18.043],\n",
              "       [22.   ,  0.   ,  2.   ,  0.   ,  8.607],\n",
              "       [49.   ,  0.   ,  2.   ,  0.   , 16.275],\n",
              "       [41.   ,  1.   ,  1.   ,  0.   , 11.037],\n",
              "       [60.   ,  1.   ,  2.   ,  0.   , 15.171],\n",
              "       [43.   ,  1.   ,  1.   ,  2.   , 19.368],\n",
              "       [47.   ,  0.   ,  1.   ,  0.   , 11.767],\n",
              "       [34.   ,  0.   ,  0.   ,  2.   , 19.199],\n",
              "       [43.   ,  1.   ,  1.   ,  0.   , 15.376],\n",
              "       [74.   ,  0.   ,  1.   ,  0.   , 20.942],\n",
              "       [50.   ,  0.   ,  2.   ,  0.   , 12.703],\n",
              "       [16.   ,  0.   ,  0.   ,  2.   , 15.516],\n",
              "       [69.   ,  1.   ,  1.   ,  2.   , 11.455],\n",
              "       [43.   ,  1.   ,  0.   ,  0.   , 13.972],\n",
              "       [23.   ,  1.   ,  1.   ,  0.   ,  7.298],\n",
              "       [32.   ,  0.   ,  0.   ,  2.   , 25.974],\n",
              "       [57.   ,  1.   ,  1.   ,  2.   , 19.128],\n",
              "       [63.   ,  1.   ,  2.   ,  0.   , 25.917],\n",
              "       [47.   ,  1.   ,  1.   ,  2.   , 30.568],\n",
              "       [48.   ,  0.   ,  1.   ,  0.   , 15.036],\n",
              "       [33.   ,  0.   ,  1.   ,  0.   , 33.486],\n",
              "       [28.   ,  0.   ,  0.   ,  2.   , 18.809],\n",
              "       [31.   ,  1.   ,  0.   ,  0.   , 30.366],\n",
              "       [49.   ,  0.   ,  2.   ,  2.   ,  9.381],\n",
              "       [39.   ,  0.   ,  1.   ,  2.   , 22.697],\n",
              "       [45.   ,  1.   ,  1.   ,  0.   , 17.951],\n",
              "       [18.   ,  0.   ,  2.   ,  2.   ,  8.75 ],\n",
              "       [74.   ,  1.   ,  0.   ,  0.   ,  9.567],\n",
              "       [49.   ,  1.   ,  1.   ,  2.   , 11.014],\n",
              "       [65.   ,  0.   ,  0.   ,  2.   , 31.876],\n",
              "       [53.   ,  1.   ,  2.   ,  0.   , 14.133],\n",
              "       [46.   ,  1.   ,  2.   ,  2.   ,  7.285],\n",
              "       [32.   ,  1.   ,  0.   ,  2.   ,  9.445],\n",
              "       [39.   ,  1.   ,  1.   ,  2.   , 13.938],\n",
              "       [39.   ,  0.   ,  2.   ,  2.   ,  9.709],\n",
              "       [15.   ,  1.   ,  2.   ,  0.   ,  9.084],\n",
              "       [73.   ,  0.   ,  2.   ,  0.   , 19.221],\n",
              "       [58.   ,  0.   ,  0.   ,  2.   , 14.239],\n",
              "       [50.   ,  1.   ,  2.   ,  2.   , 15.79 ],\n",
              "       [23.   ,  1.   ,  2.   ,  0.   , 12.26 ],\n",
              "       [50.   ,  0.   ,  2.   ,  2.   , 12.295],\n",
              "       [66.   ,  0.   ,  2.   ,  2.   ,  8.107],\n",
              "       [37.   ,  0.   ,  0.   ,  0.   , 13.091],\n",
              "       [68.   ,  1.   ,  1.   ,  0.   , 10.291],\n",
              "       [23.   ,  1.   ,  2.   ,  0.   , 31.686],\n",
              "       [28.   ,  0.   ,  1.   ,  0.   , 19.796],\n",
              "       [58.   ,  0.   ,  0.   ,  0.   , 19.416],\n",
              "       [67.   ,  1.   ,  2.   ,  2.   , 10.898],\n",
              "       [62.   ,  1.   ,  1.   ,  2.   , 27.183],\n",
              "       [24.   ,  0.   ,  0.   ,  2.   , 18.457],\n",
              "       [68.   ,  0.   ,  0.   ,  2.   , 10.189],\n",
              "       [26.   ,  0.   ,  1.   ,  0.   , 14.16 ],\n",
              "       [65.   ,  1.   ,  0.   ,  2.   , 11.34 ],\n",
              "       [40.   ,  1.   ,  0.   ,  0.   , 27.826],\n",
              "       [60.   ,  1.   ,  2.   ,  2.   , 10.091],\n",
              "       [34.   ,  1.   ,  0.   ,  0.   , 18.703],\n",
              "       [38.   ,  0.   ,  1.   ,  2.   , 29.875],\n",
              "       [24.   ,  1.   ,  0.   ,  2.   ,  9.475],\n",
              "       [67.   ,  1.   ,  1.   ,  2.   , 20.693],\n",
              "       [45.   ,  1.   ,  1.   ,  2.   ,  8.37 ],\n",
              "       [60.   ,  0.   ,  0.   ,  0.   , 13.303],\n",
              "       [68.   ,  0.   ,  2.   ,  2.   , 27.05 ],\n",
              "       [29.   ,  1.   ,  0.   ,  0.   , 12.856],\n",
              "       [17.   ,  1.   ,  2.   ,  2.   , 10.832],\n",
              "       [54.   ,  1.   ,  2.   ,  0.   , 24.658],\n",
              "       [18.   ,  0.   ,  0.   ,  2.   , 24.276],\n",
              "       [70.   ,  1.   ,  0.   ,  0.   , 13.967],\n",
              "       [28.   ,  0.   ,  2.   ,  0.   , 19.675],\n",
              "       [24.   ,  0.   ,  2.   ,  0.   , 10.605],\n",
              "       [41.   ,  0.   ,  2.   ,  2.   , 22.905],\n",
              "       [31.   ,  1.   ,  0.   ,  2.   , 17.069],\n",
              "       [26.   ,  1.   ,  1.   ,  2.   , 20.909],\n",
              "       [36.   ,  0.   ,  0.   ,  0.   , 11.198],\n",
              "       [26.   ,  0.   ,  0.   ,  2.   , 19.161],\n",
              "       [19.   ,  0.   ,  0.   ,  0.   , 13.313],\n",
              "       [32.   ,  0.   ,  1.   ,  2.   , 10.84 ],\n",
              "       [60.   ,  1.   ,  0.   ,  0.   , 13.934],\n",
              "       [64.   ,  1.   ,  2.   ,  0.   ,  7.761],\n",
              "       [32.   ,  0.   ,  1.   ,  0.   ,  9.712],\n",
              "       [38.   ,  0.   ,  0.   ,  2.   , 11.326],\n",
              "       [47.   ,  0.   ,  1.   ,  0.   , 10.067],\n",
              "       [59.   ,  1.   ,  0.   ,  0.   , 13.935],\n",
              "       [51.   ,  0.   ,  2.   ,  0.   , 13.597],\n",
              "       [69.   ,  1.   ,  1.   ,  0.   , 15.478],\n",
              "       [37.   ,  0.   ,  0.   ,  2.   , 23.091],\n",
              "       [50.   ,  0.   ,  2.   ,  2.   , 17.211],\n",
              "       [62.   ,  1.   ,  2.   ,  0.   , 16.594],\n",
              "       [41.   ,  1.   ,  0.   ,  2.   , 15.156],\n",
              "       [29.   ,  0.   ,  0.   ,  0.   , 29.45 ],\n",
              "       [42.   ,  0.   ,  1.   ,  2.   , 29.271],\n",
              "       [56.   ,  1.   ,  1.   ,  0.   , 15.015],\n",
              "       [36.   ,  1.   ,  1.   ,  2.   , 11.424],\n",
              "       [58.   ,  0.   ,  1.   ,  0.   , 38.247],\n",
              "       [56.   ,  0.   ,  0.   ,  0.   , 25.395],\n",
              "       [20.   ,  1.   ,  0.   ,  2.   , 35.639],\n",
              "       [15.   ,  0.   ,  0.   ,  2.   , 16.725],\n",
              "       [31.   ,  1.   ,  0.   ,  2.   , 11.871],\n",
              "       [45.   ,  0.   ,  0.   ,  0.   , 12.854],\n",
              "       [28.   ,  0.   ,  1.   ,  0.   , 13.127],\n",
              "       [56.   ,  1.   ,  2.   ,  0.   ,  8.966],\n",
              "       [22.   ,  1.   ,  0.   ,  2.   , 28.294],\n",
              "       [37.   ,  1.   ,  1.   ,  2.   ,  8.968],\n",
              "       [22.   ,  1.   ,  2.   ,  0.   , 11.953],\n",
              "       [42.   ,  1.   ,  1.   ,  0.   , 20.013],\n",
              "       [72.   ,  1.   ,  0.   ,  2.   ,  9.677],\n",
              "       [23.   ,  1.   ,  2.   ,  0.   , 16.85 ],\n",
              "       [50.   ,  1.   ,  0.   ,  0.   ,  7.49 ],\n",
              "       [47.   ,  0.   ,  2.   ,  2.   ,  6.683],\n",
              "       [35.   ,  1.   ,  1.   ,  2.   ,  9.17 ],\n",
              "       [65.   ,  0.   ,  1.   ,  2.   , 13.769],\n",
              "       [20.   ,  0.   ,  2.   ,  2.   ,  9.281],\n",
              "       [51.   ,  1.   ,  0.   ,  0.   , 18.295],\n",
              "       [67.   ,  1.   ,  2.   ,  2.   ,  9.514],\n",
              "       [40.   ,  0.   ,  2.   ,  0.   , 10.103],\n",
              "       [32.   ,  0.   ,  0.   ,  2.   , 10.292],\n",
              "       [61.   ,  0.   ,  0.   ,  0.   , 25.475],\n",
              "       [28.   ,  1.   ,  2.   ,  0.   , 27.064],\n",
              "       [15.   ,  1.   ,  0.   ,  2.   , 17.206],\n",
              "       [34.   ,  1.   ,  2.   ,  0.   , 22.456],\n",
              "       [36.   ,  0.   ,  2.   ,  0.   , 16.753],\n",
              "       [53.   ,  0.   ,  0.   ,  2.   , 12.495],\n",
              "       [19.   ,  0.   ,  0.   ,  2.   , 25.969],\n",
              "       [66.   ,  1.   ,  0.   ,  0.   , 16.347],\n",
              "       [35.   ,  1.   ,  2.   ,  2.   ,  7.845],\n",
              "       [47.   ,  1.   ,  1.   ,  2.   , 33.542],\n",
              "       [32.   ,  0.   ,  2.   ,  0.   ,  7.477],\n",
              "       [70.   ,  0.   ,  2.   ,  0.   , 20.489],\n",
              "       [52.   ,  1.   ,  1.   ,  2.   , 32.922],\n",
              "       [49.   ,  1.   ,  1.   ,  2.   , 13.598],\n",
              "       [24.   ,  1.   ,  2.   ,  0.   , 25.786],\n",
              "       [42.   ,  0.   ,  0.   ,  0.   , 21.036],\n",
              "       [74.   ,  1.   ,  1.   ,  2.   , 11.939],\n",
              "       [55.   ,  0.   ,  0.   ,  0.   , 10.977],\n",
              "       [35.   ,  0.   ,  0.   ,  0.   , 12.894],\n",
              "       [51.   ,  1.   ,  0.   ,  2.   , 11.343],\n",
              "       [69.   ,  0.   ,  2.   ,  0.   , 10.065],\n",
              "       [49.   ,  1.   ,  0.   ,  2.   ,  6.269],\n",
              "       [64.   ,  0.   ,  1.   ,  2.   , 25.741],\n",
              "       [60.   ,  1.   ,  0.   ,  2.   ,  8.621],\n",
              "       [74.   ,  1.   ,  0.   ,  2.   , 15.436],\n",
              "       [39.   ,  1.   ,  0.   ,  0.   ,  9.664],\n",
              "       [61.   ,  1.   ,  2.   ,  0.   ,  9.443],\n",
              "       [37.   ,  0.   ,  1.   ,  2.   , 12.006],\n",
              "       [26.   ,  0.   ,  0.   ,  2.   , 12.307],\n",
              "       [61.   ,  0.   ,  1.   ,  2.   ,  7.34 ],\n",
              "       [22.   ,  1.   ,  1.   ,  0.   ,  8.151],\n",
              "       [49.   ,  1.   ,  0.   ,  2.   ,  8.7  ],\n",
              "       [68.   ,  1.   ,  0.   ,  0.   , 11.009],\n",
              "       [55.   ,  1.   ,  2.   ,  2.   ,  7.261],\n",
              "       [72.   ,  0.   ,  1.   ,  2.   , 14.642],\n",
              "       [37.   ,  1.   ,  1.   ,  2.   , 16.724],\n",
              "       [49.   ,  1.   ,  1.   ,  0.   , 10.537],\n",
              "       [31.   ,  1.   ,  0.   ,  2.   , 11.227],\n",
              "       [53.   ,  1.   ,  1.   ,  0.   , 22.963],\n",
              "       [59.   ,  0.   ,  1.   ,  0.   , 10.444],\n",
              "       [34.   ,  0.   ,  1.   ,  2.   , 12.923],\n",
              "       [30.   ,  0.   ,  2.   ,  0.   , 10.443],\n",
              "       [57.   ,  0.   ,  0.   ,  2.   ,  9.945],\n",
              "       [43.   ,  1.   ,  2.   ,  2.   , 12.859],\n",
              "       [21.   ,  0.   ,  0.   ,  2.   , 28.632],\n",
              "       [16.   ,  1.   ,  0.   ,  2.   , 19.007],\n",
              "       [38.   ,  1.   ,  1.   ,  0.   , 18.295],\n",
              "       [58.   ,  0.   ,  1.   ,  0.   , 26.645],\n",
              "       [57.   ,  0.   ,  2.   ,  0.   , 14.216],\n",
              "       [51.   ,  0.   ,  1.   ,  2.   , 23.003],\n",
              "       [20.   ,  0.   ,  0.   ,  0.   , 11.262],\n",
              "       [28.   ,  0.   ,  2.   ,  0.   , 12.879],\n",
              "       [45.   ,  1.   ,  1.   ,  2.   , 10.017],\n",
              "       [39.   ,  0.   ,  2.   ,  2.   , 17.225],\n",
              "       [41.   ,  0.   ,  1.   ,  2.   , 18.739],\n",
              "       [42.   ,  1.   ,  0.   ,  2.   , 12.766],\n",
              "       [73.   ,  0.   ,  0.   ,  0.   , 18.348],\n",
              "       [48.   ,  1.   ,  0.   ,  2.   , 10.446],\n",
              "       [25.   ,  1.   ,  2.   ,  0.   , 19.011],\n",
              "       [39.   ,  1.   ,  2.   ,  0.   , 15.969],\n",
              "       [67.   ,  0.   ,  2.   ,  0.   , 15.891],\n",
              "       [22.   ,  0.   ,  0.   ,  2.   , 22.818],\n",
              "       [59.   ,  0.   ,  2.   ,  0.   , 13.884],\n",
              "       [20.   ,  0.   ,  1.   ,  2.   , 11.686],\n",
              "       [36.   ,  0.   ,  0.   ,  2.   , 15.49 ],\n",
              "       [18.   ,  0.   ,  0.   ,  0.   , 37.188],\n",
              "       [57.   ,  0.   ,  2.   ,  2.   , 25.893],\n",
              "       [70.   ,  1.   ,  0.   ,  0.   ,  9.849],\n",
              "       [47.   ,  1.   ,  0.   ,  0.   , 10.403],\n",
              "       [65.   ,  1.   ,  0.   ,  2.   , 34.997],\n",
              "       [64.   ,  1.   ,  0.   ,  2.   , 20.932],\n",
              "       [58.   ,  1.   ,  0.   ,  0.   , 18.991],\n",
              "       [23.   ,  1.   ,  0.   ,  0.   ,  8.011],\n",
              "       [72.   ,  1.   ,  1.   ,  0.   , 16.31 ],\n",
              "       [72.   ,  1.   ,  1.   ,  0.   ,  6.769],\n",
              "       [46.   ,  0.   ,  0.   ,  0.   , 34.686],\n",
              "       [56.   ,  0.   ,  1.   ,  0.   , 11.567],\n",
              "       [16.   ,  1.   ,  1.   ,  0.   , 12.006],\n",
              "       [52.   ,  1.   ,  2.   ,  0.   ,  9.894],\n",
              "       [23.   ,  1.   ,  2.   ,  2.   , 14.02 ],\n",
              "       [40.   ,  0.   ,  1.   ,  2.   , 11.349]])"
            ]
          },
          "metadata": {},
          "execution_count": 152
        }
      ]
    },
    {
      "cell_type": "code",
      "source": [
        "y = df.iloc[:,5:].values\n",
        "y"
      ],
      "metadata": {
        "colab": {
          "base_uri": "https://localhost:8080/"
        },
        "id": "OYOrhYKVtwij",
        "outputId": "d2092c82-d19a-44dc-aefd-350d239ec650"
      },
      "execution_count": 153,
      "outputs": [
        {
          "output_type": "execute_result",
          "data": {
            "text/plain": [
              "array([[0],\n",
              "       [3],\n",
              "       [3],\n",
              "       [4],\n",
              "       [0],\n",
              "       [4],\n",
              "       [0],\n",
              "       [3],\n",
              "       [0],\n",
              "       [0],\n",
              "       [3],\n",
              "       [0],\n",
              "       [0],\n",
              "       [0],\n",
              "       [4],\n",
              "       [0],\n",
              "       [4],\n",
              "       [1],\n",
              "       [3],\n",
              "       [0],\n",
              "       [0],\n",
              "       [0],\n",
              "       [0],\n",
              "       [0],\n",
              "       [0],\n",
              "       [0],\n",
              "       [0],\n",
              "       [4],\n",
              "       [0],\n",
              "       [0],\n",
              "       [4],\n",
              "       [2],\n",
              "       [4],\n",
              "       [0],\n",
              "       [4],\n",
              "       [4],\n",
              "       [1],\n",
              "       [4],\n",
              "       [4],\n",
              "       [4],\n",
              "       [0],\n",
              "       [2],\n",
              "       [0],\n",
              "       [4],\n",
              "       [4],\n",
              "       [4],\n",
              "       [1],\n",
              "       [3],\n",
              "       [0],\n",
              "       [0],\n",
              "       [0],\n",
              "       [4],\n",
              "       [0],\n",
              "       [0],\n",
              "       [2],\n",
              "       [3],\n",
              "       [2],\n",
              "       [0],\n",
              "       [4],\n",
              "       [0],\n",
              "       [0],\n",
              "       [1],\n",
              "       [0],\n",
              "       [4],\n",
              "       [2],\n",
              "       [0],\n",
              "       [1],\n",
              "       [4],\n",
              "       [0],\n",
              "       [0],\n",
              "       [2],\n",
              "       [0],\n",
              "       [4],\n",
              "       [0],\n",
              "       [0],\n",
              "       [0],\n",
              "       [1],\n",
              "       [0],\n",
              "       [1],\n",
              "       [4],\n",
              "       [2],\n",
              "       [4],\n",
              "       [3],\n",
              "       [1],\n",
              "       [3],\n",
              "       [2],\n",
              "       [4],\n",
              "       [0],\n",
              "       [0],\n",
              "       [0],\n",
              "       [0],\n",
              "       [0],\n",
              "       [0],\n",
              "       [0],\n",
              "       [0],\n",
              "       [4],\n",
              "       [0],\n",
              "       [0],\n",
              "       [0],\n",
              "       [0],\n",
              "       [1],\n",
              "       [1],\n",
              "       [3],\n",
              "       [4],\n",
              "       [0],\n",
              "       [4],\n",
              "       [4],\n",
              "       [0],\n",
              "       [2],\n",
              "       [0],\n",
              "       [1],\n",
              "       [4],\n",
              "       [4],\n",
              "       [4],\n",
              "       [4],\n",
              "       [0],\n",
              "       [4],\n",
              "       [4],\n",
              "       [1],\n",
              "       [0],\n",
              "       [0],\n",
              "       [0],\n",
              "       [0],\n",
              "       [0],\n",
              "       [2],\n",
              "       [0],\n",
              "       [0],\n",
              "       [4],\n",
              "       [0],\n",
              "       [4],\n",
              "       [0],\n",
              "       [0],\n",
              "       [4],\n",
              "       [0],\n",
              "       [0],\n",
              "       [4],\n",
              "       [2],\n",
              "       [1],\n",
              "       [2],\n",
              "       [4],\n",
              "       [1],\n",
              "       [0],\n",
              "       [2],\n",
              "       [0],\n",
              "       [1],\n",
              "       [4],\n",
              "       [4],\n",
              "       [1],\n",
              "       [4],\n",
              "       [3],\n",
              "       [1],\n",
              "       [2],\n",
              "       [4],\n",
              "       [4],\n",
              "       [0],\n",
              "       [3],\n",
              "       [1],\n",
              "       [0],\n",
              "       [3],\n",
              "       [4],\n",
              "       [4],\n",
              "       [2],\n",
              "       [4],\n",
              "       [0],\n",
              "       [0],\n",
              "       [0],\n",
              "       [0],\n",
              "       [4],\n",
              "       [0],\n",
              "       [1],\n",
              "       [4],\n",
              "       [4],\n",
              "       [0],\n",
              "       [0],\n",
              "       [1],\n",
              "       [0],\n",
              "       [1],\n",
              "       [0],\n",
              "       [0],\n",
              "       [0],\n",
              "       [0],\n",
              "       [4],\n",
              "       [4],\n",
              "       [0],\n",
              "       [0],\n",
              "       [0],\n",
              "       [2],\n",
              "       [1],\n",
              "       [0],\n",
              "       [0],\n",
              "       [0],\n",
              "       [1],\n",
              "       [0],\n",
              "       [3],\n",
              "       [0],\n",
              "       [3],\n",
              "       [3],\n",
              "       [4],\n",
              "       [4],\n",
              "       [4]])"
            ]
          },
          "metadata": {},
          "execution_count": 153
        }
      ]
    },
    {
      "cell_type": "code",
      "source": [
        "#import the libraries\n",
        "from sklearn.model_selection import train_test_split"
      ],
      "metadata": {
        "id": "KjTYRhhXuDTH"
      },
      "execution_count": 154,
      "outputs": []
    },
    {
      "cell_type": "code",
      "source": [
        "#Split the training and testing data\n",
        "xtrain,xtest,ytrain,ytest = train_test_split(x,y,test_size=0.2,random_state=21)"
      ],
      "metadata": {
        "id": "T51N6mDou9R4"
      },
      "execution_count": 155,
      "outputs": []
    },
    {
      "cell_type": "code",
      "source": [
        "xtrain.shape, xtest.shape, ytrain.shape, ytest.shape"
      ],
      "metadata": {
        "colab": {
          "base_uri": "https://localhost:8080/"
        },
        "id": "_JrzumjxvJsA",
        "outputId": "4e1e93c4-5364-4b23-91f8-72078903fa2e"
      },
      "execution_count": 156,
      "outputs": [
        {
          "output_type": "execute_result",
          "data": {
            "text/plain": [
              "((160, 5), (40, 5), (160, 1), (40, 1))"
            ]
          },
          "metadata": {},
          "execution_count": 156
        }
      ]
    },
    {
      "cell_type": "code",
      "source": [
        "scaler=StandardScaler()\n",
        "xtrain=scaler.fit_transform(xtrain)\n",
        "xtest=scaler.transform(xtest)"
      ],
      "metadata": {
        "id": "OTSpQgz3KbT6"
      },
      "execution_count": 157,
      "outputs": []
    },
    {
      "cell_type": "markdown",
      "source": [
        "**Task 2  Build an ANN Model(with input layes,min 3 hidden layers&output layer)**"
      ],
      "metadata": {
        "id": "vjClTDwSvmMk"
      }
    },
    {
      "cell_type": "code",
      "source": [
        "# Build an ANN model\n",
        "from tensorflow.keras.models import Sequential\n",
        "from tensorflow.keras.layers import Dense"
      ],
      "metadata": {
        "id": "mZAgws9lvlUF"
      },
      "execution_count": 158,
      "outputs": []
    },
    {
      "cell_type": "code",
      "source": [
        "# ANN Model\n",
        "model = Sequential()\n",
        "model.add(Dense(8,activation='relu',input_shape=(xtrain.shape[1],)))#input layer\n",
        "model.add(Dense(32,activation='relu'))#1st hidden layer\n",
        "model.add(Dense(26,activation='relu'))#2nd hidden layer\n",
        "model.add(Dense(16,activation='relu'))#3rd hidden layer\n",
        "model.add(Dense(5,activation='softmax'))#Output layer"
      ],
      "metadata": {
        "id": "0BUxF4S2wE6O"
      },
      "execution_count": 164,
      "outputs": []
    },
    {
      "cell_type": "code",
      "source": [
        "model.compile(optimizer='adam',loss='sparse_categorical_crossentropy',metrics=['accuracy'])"
      ],
      "metadata": {
        "id": "7Z7PlPrFw-Fx"
      },
      "execution_count": 165,
      "outputs": []
    },
    {
      "cell_type": "code",
      "source": [
        "model.summary()"
      ],
      "metadata": {
        "colab": {
          "base_uri": "https://localhost:8080/"
        },
        "id": "VK4Qi7BwxG3J",
        "outputId": "15f1ec60-25d8-4398-86f2-d2763fb52b9d"
      },
      "execution_count": 166,
      "outputs": [
        {
          "output_type": "stream",
          "name": "stdout",
          "text": [
            "Model: \"sequential_8\"\n",
            "_________________________________________________________________\n",
            " Layer (type)                Output Shape              Param #   \n",
            "=================================================================\n",
            " dense_40 (Dense)            (None, 8)                 48        \n",
            "                                                                 \n",
            " dense_41 (Dense)            (None, 32)                288       \n",
            "                                                                 \n",
            " dense_42 (Dense)            (None, 26)                858       \n",
            "                                                                 \n",
            " dense_43 (Dense)            (None, 16)                432       \n",
            "                                                                 \n",
            " dense_44 (Dense)            (None, 5)                 85        \n",
            "                                                                 \n",
            "=================================================================\n",
            "Total params: 1,711\n",
            "Trainable params: 1,711\n",
            "Non-trainable params: 0\n",
            "_________________________________________________________________\n"
          ]
        }
      ]
    },
    {
      "cell_type": "code",
      "source": [
        "model.fit(xtrain,ytrain,epochs=25,batch_size=5,verbose=1)"
      ],
      "metadata": {
        "colab": {
          "base_uri": "https://localhost:8080/"
        },
        "id": "V2hGZHJ3x6UM",
        "outputId": "b0e5a285-4249-4235-d74a-332b5560c03a"
      },
      "execution_count": 167,
      "outputs": [
        {
          "output_type": "stream",
          "name": "stdout",
          "text": [
            "Epoch 1/25\n",
            "32/32 [==============================] - 1s 4ms/step - loss: 1.5047 - accuracy: 0.3750\n",
            "Epoch 2/25\n",
            "32/32 [==============================] - 0s 3ms/step - loss: 1.3369 - accuracy: 0.6375\n",
            "Epoch 3/25\n",
            "32/32 [==============================] - 0s 3ms/step - loss: 1.1368 - accuracy: 0.7000\n",
            "Epoch 4/25\n",
            "32/32 [==============================] - 0s 3ms/step - loss: 0.9579 - accuracy: 0.7000\n",
            "Epoch 5/25\n",
            "32/32 [==============================] - 0s 3ms/step - loss: 0.8334 - accuracy: 0.7125\n",
            "Epoch 6/25\n",
            "32/32 [==============================] - 0s 3ms/step - loss: 0.7427 - accuracy: 0.7188\n",
            "Epoch 7/25\n",
            "32/32 [==============================] - 0s 3ms/step - loss: 0.6868 - accuracy: 0.7188\n",
            "Epoch 8/25\n",
            "32/32 [==============================] - 0s 3ms/step - loss: 0.6329 - accuracy: 0.7375\n",
            "Epoch 9/25\n",
            "32/32 [==============================] - 0s 3ms/step - loss: 0.5834 - accuracy: 0.7875\n",
            "Epoch 10/25\n",
            "32/32 [==============================] - 0s 3ms/step - loss: 0.5371 - accuracy: 0.8000\n",
            "Epoch 11/25\n",
            "32/32 [==============================] - 0s 4ms/step - loss: 0.4979 - accuracy: 0.8188\n",
            "Epoch 12/25\n",
            "32/32 [==============================] - 0s 2ms/step - loss: 0.4569 - accuracy: 0.8313\n",
            "Epoch 13/25\n",
            "32/32 [==============================] - 0s 2ms/step - loss: 0.4279 - accuracy: 0.8313\n",
            "Epoch 14/25\n",
            "32/32 [==============================] - 0s 2ms/step - loss: 0.3888 - accuracy: 0.8500\n",
            "Epoch 15/25\n",
            "32/32 [==============================] - 0s 2ms/step - loss: 0.3551 - accuracy: 0.8500\n",
            "Epoch 16/25\n",
            "32/32 [==============================] - 0s 2ms/step - loss: 0.3318 - accuracy: 0.8562\n",
            "Epoch 17/25\n",
            "32/32 [==============================] - 0s 2ms/step - loss: 0.3017 - accuracy: 0.8625\n",
            "Epoch 18/25\n",
            "32/32 [==============================] - 0s 2ms/step - loss: 0.2748 - accuracy: 0.8750\n",
            "Epoch 19/25\n",
            "32/32 [==============================] - 0s 2ms/step - loss: 0.2526 - accuracy: 0.8813\n",
            "Epoch 20/25\n",
            "32/32 [==============================] - 0s 2ms/step - loss: 0.2283 - accuracy: 0.9000\n",
            "Epoch 21/25\n",
            "32/32 [==============================] - 0s 2ms/step - loss: 0.2107 - accuracy: 0.9375\n",
            "Epoch 22/25\n",
            "32/32 [==============================] - 0s 2ms/step - loss: 0.1937 - accuracy: 0.9312\n",
            "Epoch 23/25\n",
            "32/32 [==============================] - 0s 2ms/step - loss: 0.1828 - accuracy: 0.9500\n",
            "Epoch 24/25\n",
            "32/32 [==============================] - 0s 2ms/step - loss: 0.1526 - accuracy: 0.9500\n",
            "Epoch 25/25\n",
            "32/32 [==============================] - 0s 2ms/step - loss: 0.1460 - accuracy: 0.9625\n"
          ]
        },
        {
          "output_type": "execute_result",
          "data": {
            "text/plain": [
              "<keras.callbacks.History at 0x7fdb3f761840>"
            ]
          },
          "metadata": {},
          "execution_count": 167
        }
      ]
    },
    {
      "cell_type": "markdown",
      "source": [
        "**Task 3 Test the model with random data**"
      ],
      "metadata": {
        "id": "82Kb_uKkQCfx"
      }
    },
    {
      "cell_type": "code",
      "source": [
        "data=np.array([[32,0,2,2,7.798]])\n",
        "ypred=model.predict(data)\n",
        "pred_labels=le.inverse_transform(np.argmax(ypred,axis=1))\n",
        "print(\"Predicted Drug Class:\", pred_labels)"
      ],
      "metadata": {
        "colab": {
          "base_uri": "https://localhost:8080/"
        },
        "id": "rDjRPdq5DJOd",
        "outputId": "1ccfa16a-4494-4ea7-b19c-f292e2240a53"
      },
      "execution_count": 175,
      "outputs": [
        {
          "output_type": "stream",
          "name": "stdout",
          "text": [
            "1/1 [==============================] - 0s 26ms/step\n",
            "Predicted Drug Class: ['drugX']\n"
          ]
        }
      ]
    },
    {
      "cell_type": "code",
      "source": [
        "data=np.array([[23,0,0,0,25.355]])\n",
        "ypred=model.predict(data)\n",
        "pred_labels=le.inverse_transform(np.argmax(ypred,axis=1))\n",
        "print(\"Predicted Drug Class:\", pred_labels)"
      ],
      "metadata": {
        "colab": {
          "base_uri": "https://localhost:8080/"
        },
        "id": "tvfbyarHPuN1",
        "outputId": "9d99bfc4-aba7-4378-f89e-b2452378d499"
      },
      "execution_count": 180,
      "outputs": [
        {
          "output_type": "stream",
          "name": "stdout",
          "text": [
            "1/1 [==============================] - 0s 50ms/step\n",
            "Predicted Drug Class: ['DrugY']\n"
          ]
        }
      ]
    }
  ]
}